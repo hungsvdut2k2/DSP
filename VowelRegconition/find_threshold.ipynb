{
 "cells": [
  {
   "cell_type": "code",
   "execution_count": 2,
   "metadata": {},
   "outputs": [],
   "source": [
    "from scipy.io import wavfile\n",
    "import numpy as np\n",
    "import matplotlib.pyplot as plt\n",
    "import os "
   ]
  },
  {
   "cell_type": "code",
   "execution_count": 3,
   "metadata": {},
   "outputs": [],
   "source": [
    "def short_term_energy(frame):\n",
    "    return np.sum(frame**2)\n",
    "def spectral_centroid(frame):\n",
    "    return"
   ]
  },
  {
   "cell_type": "code",
   "execution_count": 4,
   "metadata": {},
   "outputs": [],
   "source": [
    "\n",
    "def voice_segment(signal, frame_size, attribute_function):\n",
    "    start = 0\n",
    "    end = frame_size\n",
    "    value = []\n",
    "    while end < signal.shape[0]:\n",
    "        temp_frame = np.float64(signal[start:end])\n",
    "        value.append(eval(f\"{attribute_function}(temp_frame)\"))\n",
    "        start += frame_size\n",
    "        end += frame_size\n",
    "    return value"
   ]
  },
  {
   "cell_type": "code",
   "execution_count": 5,
   "metadata": {},
   "outputs": [],
   "source": [
    "def get_label(dir_path: str):\n",
    "    label_names = [item for item in os.listdir(dir_path) if item.endswith(\".lab\")]\n",
    "    res = {}\n",
    "    for label_name in label_names:\n",
    "        path = os.path.join(dir_path, label_name)\n",
    "        with open(path, \"r\") as f:\n",
    "            lines = f.read().splitlines()\n",
    "            name = label_name[:label_name.rfind(\".\")]\n",
    "            res[name] = {\n",
    "                \"mean\": float(lines[-2].split()[-1]),\n",
    "                \"std\": float(lines[-1].split()[-1]),\n",
    "            }\n",
    "            for line in lines[:-2]:\n",
    "                line = line.split()\n",
    "                start = float(line[0])\n",
    "                end = float(line[1])\n",
    "                label = line[2]\n",
    "                if label not in res[name]:\n",
    "                    res[name][label] = []\n",
    "                res[name][label].append((start, end))\n",
    "    return res"
   ]
  },
  {
   "cell_type": "code",
   "execution_count": 6,
   "metadata": {},
   "outputs": [],
   "source": [
    "SAMPLE_DIR = r\"/home/viethung/DSP/VowelRegconition/TinHieuKiemThu\"\n",
    "OTHER_SAMPLE_DIR = r\"/home/viethung/DSP/VowelRegconition/TinHieuHuanLuyen\""
   ]
  },
  {
   "cell_type": "code",
   "execution_count": 7,
   "metadata": {},
   "outputs": [],
   "source": [
    "labels = get_label(SAMPLE_DIR)\n",
    "other_labels = get_label(OTHER_SAMPLE_DIR)"
   ]
  },
  {
   "cell_type": "code",
   "execution_count": 8,
   "metadata": {},
   "outputs": [],
   "source": [
    "def get_value(labels,dir_path,attribute_functions):\n",
    "    voice_values = {}\n",
    "    for value in labels:\n",
    "        voice_values[value] = []\n",
    "        voice_frames = labels[value]['v']\n",
    "        path = os.path.join(dir_path, value)\n",
    "        sample_rate, signal = wavfile.read(f'{path}.wav')\n",
    "        frame_size = int(sample_rate * 0.03)\n",
    "        for frame in voice_frames:\n",
    "            start = int(frame[0] * sample_rate)\n",
    "            end = int(frame[1] * sample_rate)\n",
    "            temp_signal = signal[start:end]\n",
    "            voice_features = voice_segment(temp_signal, frame_size, attribute_functions)\n",
    "            voice_features /= np.max(voice_features)\n",
    "            voice_values[value].append(voice_features)\n",
    "    return voice_values"
   ]
  },
  {
   "cell_type": "code",
   "execution_count": 35,
   "metadata": {},
   "outputs": [],
   "source": [
    "def argmax(y):\n",
    "    max = 0\n",
    "    max_index = 0\n",
    "    for i in range(len(y)):\n",
    "        if y[i] > max:\n",
    "            max_index = i\n",
    "            max = y[i]\n",
    "    return max_index"
   ]
  },
  {
   "cell_type": "code",
   "execution_count": 9,
   "metadata": {},
   "outputs": [
    {
     "name": "stderr",
     "output_type": "stream",
     "text": [
      "/tmp/ipykernel_7170/3482111237.py:7: WavFileWarning: Chunk (non-data) not understood, skipping it.\n",
      "  sample_rate, signal = wavfile.read(f'{path}.wav')\n"
     ]
    }
   ],
   "source": [
    "STE_voice_value = get_value(dir_path=SAMPLE_DIR,labels=labels, attribute_functions=\"short_term_energy\")"
   ]
  },
  {
   "cell_type": "code",
   "execution_count": 10,
   "metadata": {},
   "outputs": [
    {
     "name": "stderr",
     "output_type": "stream",
     "text": [
      "/tmp/ipykernel_7170/3482111237.py:7: WavFileWarning: Chunk (non-data) not understood, skipping it.\n",
      "  sample_rate, signal = wavfile.read(f'{path}.wav')\n"
     ]
    }
   ],
   "source": [
    "STE_other_voice_value = get_value(dir_path=OTHER_SAMPLE_DIR,labels=other_labels, attribute_functions=\"short_term_energy\")"
   ]
  },
  {
   "cell_type": "code",
   "execution_count": 11,
   "metadata": {},
   "outputs": [],
   "source": [
    "import itertools\n",
    "def value_for_plotting(voice_value, other_voice_value):\n",
    "    y_voice = []\n",
    "    for value in voice_value:\n",
    "        #flatten array\n",
    "        values = list(itertools.chain(*voice_value[value]))\n",
    "        for amplitude in values:\n",
    "            y_voice.append(amplitude)\n",
    "    for value in other_voice_value:\n",
    "        #flatten array\n",
    "        values = list(itertools.chain(*other_voice_value[value]))\n",
    "        for amplitude in values:\n",
    "            y_voice.append(amplitude)\n",
    "    return y_voice"
   ]
  },
  {
   "cell_type": "code",
   "execution_count": 36,
   "metadata": {},
   "outputs": [
    {
     "name": "stdout",
     "output_type": "stream",
     "text": [
      "182\n"
     ]
    },
    {
     "data": {
      "image/png": "[encoded data removed]",
      "text/plain": [
       "<Figure size 640x480 with 1 Axes>"
      ]
     },
     "metadata": {},
     "output_type": "display_data"
    }
   ],
   "source": [
    "y_voice = value_for_plotting(STE_voice_value, STE_other_voice_value)\n",
    "n, bins, patches = plt.hist(y_voice, bins=np.arange(min(y_voice), max(y_voice), step = 1 / len(y_voice)))\n",
    "print(argmax(n))\n",
    "plt.ylabel(\"Frequency\")\n",
    "plt.xlabel(\"Amplitude\")\n",
    "plt.title(\"STE VALUE (VOICE\")\n",
    "plt.show()"
   ]
  },
  {
   "cell_type": "code",
   "execution_count": 13,
   "metadata": {},
   "outputs": [],
   "source": [
    "def get_unvoice_value(labels,dir_path,attribute_functions):\n",
    "    unvoice_values = {}\n",
    "    for value in labels:\n",
    "        unvoice_values[value] = []\n",
    "        unvoice_frames = labels[value]['uv']\n",
    "        path = os.path.join(dir_path, value)\n",
    "        sample_rate, signal = wavfile.read(f'{path}.wav')\n",
    "        frame_size = int(sample_rate * 0.03)\n",
    "        for frame in unvoice_frames:\n",
    "            start = int(frame[0] * sample_rate)\n",
    "            end = int(frame[1] * sample_rate)\n",
    "            temp_signal = signal[start:end]\n",
    "            voice_features = voice_segment(temp_signal, frame_size, attribute_functions)\n",
    "            if len(voice_features) > 0:\n",
    "                if np.max(voice_features) > 0:\n",
    "                    voice_features /= np.max(voice_features)\n",
    "            unvoice_values[value].append(voice_features)\n",
    "    return unvoice_values"
   ]
  },
  {
   "cell_type": "code",
   "execution_count": 14,
   "metadata": {},
   "outputs": [
    {
     "name": "stderr",
     "output_type": "stream",
     "text": [
      "/tmp/ipykernel_7170/2131510689.py:7: WavFileWarning: Chunk (non-data) not understood, skipping it.\n",
      "  sample_rate, signal = wavfile.read(f'{path}.wav')\n"
     ]
    }
   ],
   "source": [
    "STE_unvoice_value = get_unvoice_value(labels, SAMPLE_DIR, \"short_term_energy\")\n",
    "STE_other_unvoice_value = get_unvoice_value(other_labels, OTHER_SAMPLE_DIR, \"short_term_energy\")"
   ]
  },
  {
   "cell_type": "code",
   "execution_count": 15,
   "metadata": {},
   "outputs": [],
   "source": [
    "y_unvoice = value_for_plotting(STE_unvoice_value, STE_other_voice_value)"
   ]
  },
  {
   "cell_type": "code",
   "execution_count": 16,
   "metadata": {},
   "outputs": [
    {
     "data": {
      "image/png": "[encoded data removed]",
      "text/plain": [
       "<Figure size 640x480 with 1 Axes>"
      ]
     },
     "metadata": {},
     "output_type": "display_data"
    }
   ],
   "source": [
    "plt.hist(y_unvoice, bins=np.arange(min(y_unvoice), max(y_unvoice), step = 1 / len(y_unvoice)))\n",
    "plt.ylabel(\"Frequency\")\n",
    "plt.xlabel(\"Amplitude\")\n",
    "plt.title(\"STE VALUE (UNVOICE)\")\n",
    "plt.show()"
   ]
  }
 ],
 "metadata": {
  "kernelspec": {
   "display_name": "Python 3.10.8 64-bit",
   "language": "python",
   "name": "python3"
  },
  "language_info": {
   "codemirror_mode": {
    "name": "ipython",
    "version": 3
   },
   "file_extension": ".py",
   "mimetype": "text/x-python",
   "name": "python",
   "nbconvert_exporter": "python",
   "pygments_lexer": "ipython3",
   "version": "3.10.8"
  },
  "orig_nbformat": 4,
  "vscode": {
   "interpreter": {
    "hash": "e7370f93d1d0cde622a1f8e1c04877d8463912d04d973331ad4851f04de6915a"
   }
  }
 },
 "nbformat": 4,
 "nbformat_minor": 2
}
