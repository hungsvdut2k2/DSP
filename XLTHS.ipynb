{
  "cells": [
    {
      "cell_type": "markdown",
      "metadata": {
        "id": "view-in-github",
        "colab_type": "text"
      },
      "source": [
        "<a href=\"https://colab.research.google.com/github/hungsvdut2k2/DSP/blob/main/XLTHS.ipynb\" target=\"_parent\"><img src=\"https://colab.research.google.com/assets/colab-badge.svg\" alt=\"Open In Colab\"/></a>"
      ]
    },
    {
      "cell_type": "code",
      "execution_count": null,
      "metadata": {
        "colab": {
          "base_uri": "https://localhost:8080/"
        },
        "id": "pdxc8H6OVKm8",
        "outputId": "e94ce5e2-1d7e-426f-e1a2-6e4622d58f39"
      },
      "outputs": [
        {
          "name": "stdout",
          "output_type": "stream",
          "text": [
            "Mounted at /content/drive\n"
          ]
        }
      ],
      "source": [
        "from google.colab import drive\n",
        "drive.mount('/content/drive')"
      ]
    },
    {
      "cell_type": "code",
      "execution_count": null,
      "metadata": {
        "id": "MDOpCTimWlQF"
      },
      "outputs": [],
      "source": [
        "import librosa\n",
        "import numpy as np\n",
        "import matplotlib.pyplot as plt\n",
        "from scipy.io import wavfile\n",
        "import os\n",
        "import sklearn\n",
        "from google.colab import files"
      ]
    },
    {
      "cell_type": "markdown",
      "metadata": {
        "id": "5JaHiXNNU5xr"
      },
      "source": [
        "**Bai 2**"
      ]
    },
    {
      "cell_type": "code",
      "execution_count": null,
      "metadata": {
        "id": "eGGoI_luUxce"
      },
      "outputs": [],
      "source": [
        "SAMPLE_DIR = r\"/content/drive/MyDrive/Datasets/NguyenAmHuanLuyen-16k\""
      ]
    },
    {
      "cell_type": "code",
      "execution_count": null,
      "metadata": {
        "id": "VoJ3lH6wWuZP"
      },
      "outputs": [],
      "source": [
        "def iterator_for_all_sub_directories(directory):\n",
        "    files_path = {\"a.wav\": [], \"e.wav\": [], \"i.wav\": [], \"o.wav\": [], \"u.wav\": []}\n",
        "    for sub_directory in os.scandir(directory):\n",
        "        for file in os.scandir(sub_directory):\n",
        "            splitted_file_path = file.path.split(\"/\")\n",
        "            files_path[splitted_file_path[-1]].append(file.path)\n",
        "    return files_path"
      ]
    },
    {
      "cell_type": "code",
      "execution_count": null,
      "metadata": {
        "id": "wwWErGZLWZC0"
      },
      "outputs": [],
      "source": [
        "def short_term_energy(frame):\n",
        "    return np.sum(frame**2) / frame.shape[0]"
      ]
    },
    {
      "cell_type": "code",
      "execution_count": null,
      "metadata": {
        "id": "uJq4xLHvWr2P"
      },
      "outputs": [],
      "source": [
        "def voice_segment(signal, sample_rate, threshold, attribute_function):\n",
        "    voice = []\n",
        "    ste_values = []\n",
        "    result = []\n",
        "    normalized_signal = signal / np.max(signal)\n",
        "    frame_size = int(0.03 * sample_rate)\n",
        "    start = 0\n",
        "    end = frame_size\n",
        "    while end < signal.shape[0]:\n",
        "        temp_list = []\n",
        "        temp_frame = np.float64(normalized_signal[start:end])\n",
        "        value = eval(f\"{attribute_function}(temp_frame)\")\n",
        "        ste_values.append(value)\n",
        "        temp_list.append(value)\n",
        "        temp_list.append(temp_frame)\n",
        "        voice.append(temp_list)\n",
        "        start += frame_size\n",
        "        end += frame_size\n",
        "    for sublist in voice:\n",
        "        sublist[0] /= max(ste_values)\n",
        "    for sublist in voice:\n",
        "        if sublist[0] >= 0.01:\n",
        "            for value in sublist[1]:\n",
        "                result.append(value)\n",
        "    return result"
      ]
    },
    {
      "cell_type": "code",
      "execution_count": null,
      "metadata": {
        "id": "gjQqPp9pWzqF"
      },
      "outputs": [],
      "source": [
        "def get_middle_frame(frame):\n",
        "    frame_size = len(frame) / 3\n",
        "    start = int(frame_size)\n",
        "    end = int(2 * frame_size)\n",
        "    return frame[start:end]"
      ]
    },
    {
      "cell_type": "code",
      "execution_count": null,
      "metadata": {
        "id": "TcgM0JHKYzK0"
      },
      "outputs": [],
      "source": [
        "def fft(middle_frames, sample_rate, n_fft):\n",
        "  result = []\n",
        "  count  = 1\n",
        "  frame_size = int(0.03 * sample_rate)\n",
        "  start = 0\n",
        "  end = frame_size\n",
        "  while end < middle_frames.shape[0]:\n",
        "    temp_frame = middle_frames[start:end]\n",
        "    result.append(librosa.stft(temp_frame, n_fft))\n",
        "    start += frame_size\n",
        "    end += frame_size\n",
        "    count += 1\n",
        "  if (end - frame_size) < middle_frames.shape[0]:\n",
        "    start = end - frame_size\n",
        "    end = len(middle_frames)\n",
        "    temp_frame = middle_frames[start:end]\n",
        "    result.append(librosa.stft(temp_frame, n_fft))\n",
        "  for i in range(1, len(result)):\n",
        "    result[0] += result[i]\n",
        "  return result[0] / count"
      ]
    },
    {
      "cell_type": "code",
      "execution_count": null,
      "metadata": {
        "id": "FTggBbpQxHz8"
      },
      "outputs": [],
      "source": [
        "def argmin(ranking):\n",
        "  min = 10000000\n",
        "  min_index = 0\n",
        "  for i in range(1, len(ranking)):\n",
        "    if ranking[i] < min:\n",
        "      min = ranking[i]\n",
        "      min_index = i\n",
        "  return min_index"
      ]
    },
    {
      "cell_type": "code",
      "execution_count": null,
      "metadata": {
        "id": "4AOUgTmnnZK_"
      },
      "outputs": [],
      "source": [
        "def euclidean_distance(first_vector, second_vector):\n",
        "  return np.linalg.norm(first_vector - second_vector)"
      ]
    },
    {
      "cell_type": "code",
      "execution_count": null,
      "metadata": {
        "id": "eszgCocqorFt"
      },
      "outputs": [],
      "source": [
        "def predict(input_vector, weights):\n",
        "  ranking = []\n",
        "  for weight in weights:\n",
        "      ranking.append(euclidean_distance(input_vector, weights[weight]))\n",
        "  if argmin(ranking) == 0:\n",
        "    return \"a\"\n",
        "  elif argmin(ranking) == 1:\n",
        "    return \"e\"\n",
        "  elif argmin(ranking) == 2:\n",
        "    return \"i\"\n",
        "  elif argmin(ranking) == 3:\n",
        "    return \"o\"\n",
        "  else:\n",
        "    return \"u\""
      ]
    },
    {
      "cell_type": "code",
      "execution_count": null,
      "metadata": {
        "id": "B57OIXUrKFiS"
      },
      "outputs": [],
      "source": [
        "def generate_confusion_matrix(confusion_values):\n",
        "  confusion_matrix = np.zeros((5,5))\n",
        "  confusion_matrix[0][0] = confusion_values['a_a']\n",
        "  confusion_matrix[0][1] = confusion_values['a_e']\n",
        "  confusion_matrix[0][2] = confusion_values['a_i']\n",
        "  confusion_matrix[0][3] = confusion_values['a_o']\n",
        "  confusion_matrix[0][4] = confusion_values['a_u']\n",
        "  confusion_matrix[1][0] = confusion_values['e_a']\n",
        "  confusion_matrix[1][1] = confusion_values['e_e']\n",
        "  confusion_matrix[1][2] = confusion_values['e_i']\n",
        "  confusion_matrix[1][3] = confusion_values['e_o']\n",
        "  confusion_matrix[1][4] = confusion_values['e_u']\n",
        "  confusion_matrix[2][0] = confusion_values['i_a']\n",
        "  confusion_matrix[2][1] = confusion_values['i_e']\n",
        "  confusion_matrix[2][2] = confusion_values['i_i']\n",
        "  confusion_matrix[2][3] = confusion_values['i_o']\n",
        "  confusion_matrix[2][4] = confusion_values['i_u']\n",
        "  confusion_matrix[3][0] = confusion_values['o_a']\n",
        "  confusion_matrix[3][1] = confusion_values['o_e']\n",
        "  confusion_matrix[3][2] = confusion_values['o_i']\n",
        "  confusion_matrix[3][3] = confusion_values['o_o']\n",
        "  confusion_matrix[3][4] = confusion_values['o_u']\n",
        "  confusion_matrix[4][0] = confusion_values['u_a']\n",
        "  confusion_matrix[4][1] = confusion_values['u_e']\n",
        "  confusion_matrix[4][2] = confusion_values['u_i']\n",
        "  confusion_matrix[4][3] = confusion_values['u_o']\n",
        "  confusion_matrix[4][4] = confusion_values['u_u']\n",
        "  return confusion_matrix"
      ]
    },
    {
      "cell_type": "code",
      "execution_count": null,
      "metadata": {
        "id": "3ij4ZE4GW4Kh"
      },
      "outputs": [],
      "source": [
        "sample_rate, signal = wavfile.read('/content/drive/MyDrive/Datasets/NguyenAmHuanLuyen-16k/01MDA/a.wav')"
      ]
    },
    {
      "cell_type": "code",
      "execution_count": null,
      "metadata": {
        "id": "GyjuFxc7XEp-"
      },
      "outputs": [],
      "source": [
        "result = voice_segment(signal, sample_rate, 0.01, \"short_term_energy\")"
      ]
    },
    {
      "cell_type": "code",
      "execution_count": null,
      "metadata": {
        "id": "zmSPeuaUXon_"
      },
      "outputs": [],
      "source": [
        "middle_frame = get_middle_frame(result)"
      ]
    },
    {
      "cell_type": "code",
      "execution_count": null,
      "metadata": {
        "colab": {
          "base_uri": "https://localhost:8080/",
          "height": 265
        },
        "id": "rqPh01bnXva3",
        "outputId": "9df8c5e9-8b6c-41a6-abfc-665923222485"
      },
      "outputs": [
        {
          "data": {
            "image/png": "[encoded data removed]",
            "text/plain": [
              "<Figure size 432x288 with 1 Axes>"
            ]
          },
          "metadata": {},
          "output_type": "display_data"
        }
      ],
      "source": [
        "plt.plot(np.arange(len(middle_frame)), middle_frame)\n",
        "plt.show()"
      ]
    },
    {
      "cell_type": "code",
      "execution_count": null,
      "metadata": {
        "colab": {
          "base_uri": "https://localhost:8080/"
        },
        "id": "nKc_ibZiX37C",
        "outputId": "5b709307-1e6b-4707-d611-20dd3472a51c"
      },
      "outputs": [
        {
          "data": {
            "text/plain": [
              "2.6666666666666665"
            ]
          },
          "execution_count": 17,
          "metadata": {},
          "output_type": "execute_result"
        }
      ],
      "source": [
        "len(middle_frame) / (sample_rate * 0.03)"
      ]
    },
    {
      "cell_type": "code",
      "execution_count": null,
      "metadata": {
        "colab": {
          "base_uri": "https://localhost:8080/"
        },
        "id": "HCjC7nYZZypo",
        "outputId": "10c0f2ad-425c-4bcd-926d-e632a32d83ea"
      },
      "outputs": [
        {
          "name": "stderr",
          "output_type": "stream",
          "text": [
            "/usr/local/lib/python3.7/dist-packages/librosa/core/spectrum.py:224: UserWarning: n_fft=2048 is too small for input signal of length=480\n",
            "  n_fft, y.shape[-1]\n",
            "/usr/local/lib/python3.7/dist-packages/librosa/core/spectrum.py:224: UserWarning: n_fft=2048 is too small for input signal of length=320\n",
            "  n_fft, y.shape[-1]\n"
          ]
        },
        {
          "data": {
            "text/plain": [
              "(1025, 1)"
            ]
          },
          "execution_count": 18,
          "metadata": {},
          "output_type": "execute_result"
        }
      ],
      "source": [
        "np_middle_frame = np.array(middle_frame)\n",
        "fft_vectors = fft(np_middle_frame, sample_rate, 2048)\n",
        "fft_vectors.shape"
      ]
    },
    {
      "cell_type": "code",
      "execution_count": null,
      "metadata": {
        "colab": {
          "base_uri": "https://localhost:8080/",
          "height": 319
        },
        "id": "AZYh3vopdm9s",
        "outputId": "11c0427c-06e1-47e5-a862-e60bea9d915a"
      },
      "outputs": [
        {
          "name": "stderr",
          "output_type": "stream",
          "text": [
            "/usr/local/lib/python3.7/dist-packages/matplotlib/cbook/__init__.py:1317: ComplexWarning: Casting complex values to real discards the imaginary part\n",
            "  return np.asarray(x, float)\n"
          ]
        },
        {
          "data": {
            "text/plain": [
              "[<matplotlib.lines.Line2D at 0x7f0e8c4ea190>]"
            ]
          },
          "execution_count": 19,
          "metadata": {},
          "output_type": "execute_result"
        },
        {
          "data": {
            "image/png": "[encoded data removed]",
            "text/plain": [
              "<Figure size 432x288 with 1 Axes>"
            ]
          },
          "metadata": {},
          "output_type": "display_data"
        }
      ],
      "source": [
        "plt.plot(np.arange(fft_vectors.shape[0]), fft_vectors)"
      ]
    },
    {
      "cell_type": "code",
      "execution_count": null,
      "metadata": {
        "id": "Gn0BvHZFaxFg"
      },
      "outputs": [],
      "source": [
        "all_directories = iterator_for_all_sub_directories(SAMPLE_DIR)"
      ]
    },
    {
      "cell_type": "code",
      "execution_count": null,
      "metadata": {
        "colab": {
          "base_uri": "https://localhost:8080/"
        },
        "id": "ifCEFA4teG9L",
        "outputId": "e3b47e0b-1b74-407f-c583-71d2f589c40a"
      },
      "outputs": [
        {
          "name": "stderr",
          "output_type": "stream",
          "text": [
            "/usr/local/lib/python3.7/dist-packages/librosa/core/spectrum.py:224: UserWarning: n_fft=2048 is too small for input signal of length=480\n",
            "  n_fft, y.shape[-1]\n",
            "/usr/local/lib/python3.7/dist-packages/librosa/core/spectrum.py:224: UserWarning: n_fft=2048 is too small for input signal of length=320\n",
            "  n_fft, y.shape[-1]\n",
            "/usr/local/lib/python3.7/dist-packages/librosa/core/spectrum.py:224: UserWarning: n_fft=2048 is too small for input signal of length=160\n",
            "  n_fft, y.shape[-1]\n"
          ]
        }
      ],
      "source": [
        "result = {\"a\":[], \"e\":[], \"i\":[], \"o\":[], \"u\":[]}\n",
        "for vowel in all_directories:\n",
        "  for file_path in all_directories[vowel]:\n",
        "    sample_rate, signal = wavfile.read(file_path)\n",
        "    splitted_file_path = file_path.split('/')\n",
        "    label = splitted_file_path[-1].split('.')[0]\n",
        "    voice_frames = voice_segment(signal, sample_rate, 0.01, \"short_term_energy\")\n",
        "    middle_frame = get_middle_frame(voice_frames)\n",
        "    middle_frame = np.array(middle_frame)\n",
        "    fft_vectors = fft(middle_frame, sample_rate, 2048)\n",
        "    result[label].append(fft_vectors)\n",
        "for label in result:\n",
        "  for i in range(1, len(result[label])):\n",
        "    result[label][0] += result[label][i]\n",
        "a = []\n",
        "e = []\n",
        "i = []\n",
        "o = []\n",
        "u = []\n",
        "for label in result:\n",
        "  result[label][0] /= len(result[label])\n",
        "  if label == 'a':\n",
        "    a = result[label][0]\n",
        "  elif label == 'e':\n",
        "    e = result[label][0]\n",
        "  elif label == 'i':\n",
        "    i = result[label][0]\n",
        "  elif label == 'o':\n",
        "    o = result[label][0]\n",
        "  else:\n",
        "    u = result[label][0]\n"
      ]
    },
    {
      "cell_type": "code",
      "execution_count": null,
      "metadata": {
        "colab": {
          "base_uri": "https://localhost:8080/",
          "height": 759
        },
        "id": "FIMRLXrMIMb1",
        "outputId": "9362c97e-3f3c-4aa8-f003-c2a7e339deb6"
      },
      "outputs": [
        {
          "name": "stderr",
          "output_type": "stream",
          "text": [
            "/usr/local/lib/python3.7/dist-packages/matplotlib/cbook/__init__.py:1317: ComplexWarning: Casting complex values to real discards the imaginary part\n",
            "  return np.asarray(x, float)\n",
            "/usr/local/lib/python3.7/dist-packages/matplotlib/cbook/__init__.py:1317: ComplexWarning: Casting complex values to real discards the imaginary part\n",
            "  return np.asarray(x, float)\n",
            "/usr/local/lib/python3.7/dist-packages/matplotlib/cbook/__init__.py:1317: ComplexWarning: Casting complex values to real discards the imaginary part\n",
            "  return np.asarray(x, float)\n",
            "/usr/local/lib/python3.7/dist-packages/matplotlib/cbook/__init__.py:1317: ComplexWarning: Casting complex values to real discards the imaginary part\n",
            "  return np.asarray(x, float)\n",
            "/usr/local/lib/python3.7/dist-packages/matplotlib/cbook/__init__.py:1317: ComplexWarning: Casting complex values to real discards the imaginary part\n",
            "  return np.asarray(x, float)\n"
          ]
        },
        {
          "data": {
            "image/png": "[encoded data removed]",
            "text/plain": [
              "<Figure size 720x576 with 5 Axes>"
            ]
          },
          "metadata": {},
          "output_type": "display_data"
        }
      ],
      "source": [
        "fig = plt.figure(figsize=(10,8))\n",
        "axs = fig.subplots(nrows=5)\n",
        "axs[0].plot(np.arange(len(a)), a)\n",
        "axs[0].set_title(\"A\")\n",
        "axs[1].plot(np.arange(len(e)), e)\n",
        "axs[1].set_title(\"E\")\n",
        "axs[2].plot(np.arange(len(i)), i)\n",
        "axs[2].set_title(\"I\")\n",
        "axs[3].plot(np.arange(len(o)), o)\n",
        "axs[3].set_title(\"O\")\n",
        "axs[4].plot(np.arange(len(u)), u)\n",
        "axs[4].set_title(\"U\")\n",
        "fig.tight_layout()\n",
        "plt.show()\n",
        "\n"
      ]
    },
    {
      "cell_type": "markdown",
      "metadata": {
        "id": "FEE2VdslikGB"
      },
      "source": [
        "**Confusion Matrix**"
      ]
    },
    {
      "cell_type": "code",
      "execution_count": null,
      "metadata": {
        "id": "Re6aJLwiiSOy"
      },
      "outputs": [],
      "source": [
        "TEST_DIR = '/content/drive/MyDrive/Datasets/NguyenAmKiemThu-16k'\n",
        "test_directories = iterator_for_all_sub_directories(TEST_DIR)"
      ]
    },
    {
      "cell_type": "code",
      "execution_count": null,
      "metadata": {
        "id": "_VKMasxBrS3T"
      },
      "outputs": [],
      "source": [
        "weights = {\"a\":[], \"e\":[], \"o\":[], \"i\":[], \"u\":[]}\n",
        "weights[\"a\"] = a\n",
        "weights[\"e\"] = e\n",
        "weights[\"o\"] = o\n",
        "weights[\"i\"] = i\n",
        "weights[\"u\"] = u"
      ]
    },
    {
      "cell_type": "code",
      "execution_count": null,
      "metadata": {
        "colab": {
          "base_uri": "https://localhost:8080/"
        },
        "id": "rvA-bzkLtNqj",
        "outputId": "e53784e2-264a-41ea-8ef1-488307ad87ef"
      },
      "outputs": [
        {
          "name": "stderr",
          "output_type": "stream",
          "text": [
            "/usr/local/lib/python3.7/dist-packages/librosa/core/spectrum.py:224: UserWarning: n_fft=2048 is too small for input signal of length=480\n",
            "  n_fft, y.shape[-1]\n",
            "/usr/local/lib/python3.7/dist-packages/librosa/core/spectrum.py:224: UserWarning: n_fft=2048 is too small for input signal of length=320\n",
            "  n_fft, y.shape[-1]\n",
            "/usr/local/lib/python3.7/dist-packages/librosa/core/spectrum.py:224: UserWarning: n_fft=2048 is too small for input signal of length=160\n",
            "  n_fft, y.shape[-1]\n",
            "/usr/local/lib/python3.7/dist-packages/ipykernel_launcher.py:9: WavFileWarning: Chunk (non-data) not understood, skipping it.\n",
            "  if __name__ == '__main__':\n"
          ]
        }
      ],
      "source": [
        "confusion_values = {\"a_a\":0, \"a_e\":0, \"a_i\":0, \"a_o\":0, \"a_u\":0,\n",
        "                    \"e_a\":0, \"e_e\":0, \"e_i\":0, \"e_o\":0, \"e_u\":0,\n",
        "                    \"i_a\":0, \"i_e\":0, \"i_i\":0, \"i_o\":0, \"i_u\":0,\n",
        "                    \"o_a\":0, \"o_e\":0, \"o_i\":0, \"o_o\":0, \"o_u\":0,\n",
        "                    \"u_a\":0, \"u_e\":0, \"u_i\":0, \"u_o\":0, \"u_u\":0}\n",
        "for vowel in test_directories:\n",
        "  for file_path in test_directories[vowel]:\n",
        "    label = vowel.split(\".\")[0]\n",
        "    sample_rate, signal = wavfile.read(file_path)\n",
        "    normalized_signal = signal / np.max(signal)\n",
        "    voice_frames = voice_segment(normalized_signal, sample_rate, 0.01, \"short_term_energy\")\n",
        "    middle_frame = get_middle_frame(voice_frames)\n",
        "    middle_frame = np.array(middle_frame)\n",
        "    fft_vectors = fft(middle_frame, sample_rate, 2048)\n",
        "    distances = []\n",
        "    distances.append(euclidean_distance(fft_vectors, a))\n",
        "    distances.append(euclidean_distance(fft_vectors, e))\n",
        "    distances.append(euclidean_distance(fft_vectors, i))\n",
        "    distances.append(euclidean_distance(fft_vectors, o))\n",
        "    distances.append(euclidean_distance(fft_vectors, u))\n",
        "    min_index = argmin(distances)\n",
        "    predicted_value = \"\"\n",
        "    if min_index == 0:\n",
        "      predicted_value = \"a\"\n",
        "    elif min_index == 1:\n",
        "      predicted_value = \"e\"\n",
        "    elif min_index == 2:\n",
        "      predicted_value = \"i\"\n",
        "    elif min_index == 3:\n",
        "      predicted_value = \"o\"\n",
        "    else:\n",
        "      predicted_value = \"u\"\n",
        "    confusion_values[f'{label}_{predicted_value}'] += 1"
      ]
    },
    {
      "cell_type": "code",
      "execution_count": null,
      "metadata": {
        "colab": {
          "base_uri": "https://localhost:8080/"
        },
        "id": "xMKDizF5KJun",
        "outputId": "9e126c91-a74f-4d8e-853a-09b8f6827730"
      },
      "outputs": [
        {
          "data": {
            "text/plain": [
              "array([[ 0.,  2., 12.,  6.,  1.],\n",
              "       [ 0.,  8.,  8.,  0.,  5.],\n",
              "       [ 0.,  2., 14.,  1.,  4.],\n",
              "       [ 0.,  5.,  5.,  8.,  3.],\n",
              "       [ 0.,  1.,  8.,  3.,  9.]])"
            ]
          },
          "execution_count": 26,
          "metadata": {},
          "output_type": "execute_result"
        }
      ],
      "source": [
        "confusion_matrix = generate_confusion_matrix(confusion_values)\n",
        "confusion_matrix"
      ]
    },
    {
      "cell_type": "code",
      "execution_count": null,
      "metadata": {
        "id": "05N02hbjKTj8"
      },
      "outputs": [],
      "source": [
        "def get_accuracy(confusion_matrix):\n",
        "  number_of_accuracy = 0\n",
        "  for i in range(confusion_matrix.shape[0]):\n",
        "    number_of_accuracy += confusion_matrix[i][i]\n",
        "  return number_of_accuracy / 105"
      ]
    },
    {
      "cell_type": "code",
      "execution_count": null,
      "metadata": {
        "colab": {
          "base_uri": "https://localhost:8080/"
        },
        "id": "OKNjMXHBKoQO",
        "outputId": "ee67e408-5214-4d2a-a086-efbcaf70ee2f"
      },
      "outputs": [
        {
          "data": {
            "text/plain": [
              "0.37142857142857144"
            ]
          },
          "execution_count": 28,
          "metadata": {},
          "output_type": "execute_result"
        }
      ],
      "source": [
        "accuracy = get_accuracy(confusion_matrix)\n",
        "accuracy"
      ]
    },
    {
      "cell_type": "markdown",
      "metadata": {
        "id": "yWexQwjibOld"
      },
      "source": [
        "**Bai 3**"
      ]
    },
    {
      "cell_type": "code",
      "execution_count": null,
      "metadata": {
        "id": "Mq3RU5zBRBqi"
      },
      "outputs": [],
      "source": [
        "def mfcc(middle_frames, sample_rate):\n",
        "  result = []\n",
        "  count  = 1\n",
        "  frame_size = int(0.03 * sample_rate)\n",
        "  start = 0\n",
        "  end = frame_size\n",
        "  while end < middle_frames.shape[0]:\n",
        "    temp_frame = middle_frames[start:end]\n",
        "    result.append(librosa.feature.mfcc(temp_frame, sample_rate, n_mfcc = 13))\n",
        "    start += frame_size\n",
        "    end += frame_size\n",
        "    count += 1\n",
        "  if (end - frame_size) < middle_frames.shape[0]:\n",
        "    start = end - frame_size\n",
        "    end = len(middle_frames)\n",
        "    temp_frame = middle_frames[start:end]\n",
        "    result.append(librosa.feature.mfcc(temp_frame, sample_rate, n_mfcc = 13))\n",
        "  for i in range(1, len(result)):\n",
        "    result[0] += result[i]\n",
        "  return result[0] / count"
      ]
    },
    {
      "cell_type": "code",
      "execution_count": null,
      "metadata": {
        "id": "TAr9GrlhUxM7"
      },
      "outputs": [],
      "source": [
        "def kmeans_display(X, label):\n",
        "    K = np.amax(label) + 1\n",
        "    X0 = X[label == 0, :]\n",
        "    X1 = X[label == 1, :]\n",
        "    X2 = X[label == 2, :]\n",
        "    X3 = X[label == 3, :]\n",
        "    X4 = X[label == 4, :]\n",
        "\n",
        "    plt.rcParams[\"figure.figsize\"] = (10,8)\n",
        "    plt.plot(X0[:, 0], X0[:, 1], 'b^', markersize = 4, alpha = .8)\n",
        "    plt.plot(X1[:, 0], X1[:, 1], 'go', markersize = 4, alpha = .8)\n",
        "    plt.plot(X2[:, 0], X2[:, 1], 'rs', markersize = 4, alpha = .8)\n",
        "    plt.plot(X3[:, 0], X3[:, 1], '1', markersize = 4, alpha = .8)\n",
        "    plt.plot(X4[:, 0], X4[:, 1], '2', markersize = 4, alpha = .8)\n",
        "\n",
        "    plt.axis('equal')\n",
        "    plt.plot()\n",
        "    plt.show()"
      ]
    },
    {
      "cell_type": "code",
      "execution_count": 84,
      "metadata": {
        "id": "3uYOZx_BbRN-"
      },
      "outputs": [],
      "source": [
        "result = {\"a\":[], \"e\":[], \"i\":[], \"o\":[], \"u\":[]}\n",
        "for vowel in all_directories:\n",
        "  for file_path in all_directories[vowel]:\n",
        "    sample_rate, signal = wavfile.read(file_path)\n",
        "    splitted_file_path = file_path.split('/')\n",
        "    label = splitted_file_path[-1].split('.')[0]\n",
        "    voice_frames = voice_segment(signal, sample_rate, 0.01, \"short_term_energy\")\n",
        "    middle_frame = get_middle_frame(voice_frames)\n",
        "    middle_frame = np.array(middle_frame)\n",
        "    fft_vectors = mfcc(middle_frame, sample_rate)\n",
        "    result[label].append(fft_vectors)\n",
        "a = []\n",
        "e = []\n",
        "i = []\n",
        "o = []\n",
        "u = []\n",
        "for label in result:\n",
        "  if label == 'a':\n",
        "    for value in result[label]:\n",
        "      a.append(value)\n",
        "  elif label == 'e':\n",
        "    for value in result[label]:\n",
        "      e.append(value)\n",
        "  elif label == 'i':\n",
        "    for value in result[label]:\n",
        "      i.append(value)\n",
        "  elif label == 'o':\n",
        "    for value in result[label]:\n",
        "      o.append(value)\n",
        "  else:\n",
        "    for value in result[label]:\n",
        "      u.append(value)"
      ]
    },
    {
      "cell_type": "code",
      "source": [
        "print(a[0].shape)"
      ],
      "metadata": {
        "colab": {
          "base_uri": "https://localhost:8080/"
        },
        "id": "AbwguOriQBEg",
        "outputId": "f11c4413-9847-4f78-8dfb-36e4ff022d95"
      },
      "execution_count": 60,
      "outputs": [
        {
          "output_type": "stream",
          "name": "stdout",
          "text": [
            "(13, 1)\n"
          ]
        }
      ]
    },
    {
      "cell_type": "code",
      "execution_count": 64,
      "metadata": {
        "id": "HtqI2nKBSNKx",
        "colab": {
          "base_uri": "https://localhost:8080/"
        },
        "outputId": "ff6efa0e-d408-4fde-fb4b-cc3207f148c0"
      },
      "outputs": [
        {
          "output_type": "stream",
          "name": "stdout",
          "text": [
            "            0           1           2          3          4          5   \\\n",
            "0   -49.262429  114.890343  -86.603126 -24.466693  -8.212717  17.329919   \n",
            "1    -9.590353   76.245522  -61.857304  -9.828414 -43.445708  31.023115   \n",
            "2   -23.643061  112.292592  -86.142288 -26.130776 -38.558973  14.235551   \n",
            "3   -59.922668  101.594836  -91.579595  11.267311 -17.072207   6.484842   \n",
            "4   -31.719530   77.508612  -64.637484 -37.759165 -13.612898  26.989209   \n",
            "5   -33.700316   70.645227  -38.367883 -34.584492  11.147438  -0.506403   \n",
            "6    -1.969057  139.523855  -68.798347  -9.454115 -17.190164   4.927167   \n",
            "7   -87.541910  124.582482  -93.522861 -46.605788 -20.392443  -3.554222   \n",
            "8   -82.612884  138.551450 -111.195240  -0.879517  -2.582540 -19.676982   \n",
            "9   -31.543977  101.463423  -15.305883 -66.388582 -11.306224   8.302715   \n",
            "10  -66.287023  154.224532  -85.045387 -35.403065  -9.766922  13.702706   \n",
            "11 -122.722887  117.374149  -62.478616 -14.125704 -11.637997   9.598718   \n",
            "12  -25.907834   90.333082 -104.653029  10.030188 -22.305254   1.304910   \n",
            "13   -1.797339   58.123419  -30.915121 -15.184862 -24.980901  50.220028   \n",
            "14  -57.884537   89.112402  -71.500348 -52.755212 -30.621321  27.706370   \n",
            "15  -35.438724  108.319900  -38.506381 -25.865002 -11.738382  25.097635   \n",
            "16  -95.662159  158.630000  -74.932184 -37.941868   3.233122 -10.891391   \n",
            "17  -31.447259   58.457533  -64.539392   9.512558 -42.553400  16.476928   \n",
            "18  -48.047784  112.344994  -82.451557  -7.837296  12.091289   4.705911   \n",
            "19  -55.793476  110.276324  -87.082537 -15.869142   5.085380  27.545878   \n",
            "20  -56.405619  110.093520  -70.304254 -43.934117  -0.073688  24.919922   \n",
            "\n",
            "           6          7          8          9          10         11  \\\n",
            "0   11.590725  -4.495808  -6.456442   5.464694 -22.895862  10.329756   \n",
            "1  -27.747738  -3.626338   6.320286  19.339846  -7.695543  -6.878686   \n",
            "2  -10.281508  -6.556871  15.225132  11.473791 -11.020299  24.721261   \n",
            "3  -31.056419  20.308272   7.321109  10.195526 -11.191013 -17.567958   \n",
            "4  -19.510267  34.945309 -14.267057  48.586143  -7.999691 -10.504264   \n",
            "5   -0.464994  14.739157   5.426248 -12.377746  -5.540344  16.444101   \n",
            "6   -0.336539  -6.105856  18.399832  11.520010  -9.944072  -5.690119   \n",
            "7   12.718597  17.256823 -12.327296  10.742781  10.983733  -4.466229   \n",
            "8    8.080127  -4.541687   2.080027  17.109781  -2.731447  -4.723343   \n",
            "9  -25.752037  26.993744 -23.108561  25.716016   4.166882   7.279456   \n",
            "10  16.659833   5.826304   7.470265   3.387150 -13.811422 -14.073897   \n",
            "11  -4.367977  16.319447  11.933676  15.583270   2.555054 -15.798367   \n",
            "12   6.190381 -18.724860  13.317333   8.645338  -2.391795  -0.337099   \n",
            "13 -30.275094   6.552224  -1.949136  16.314604 -19.531229 -12.720549   \n",
            "14 -17.349221   6.693710   1.051946  24.686691   8.153720   9.007459   \n",
            "15 -16.430609   3.327842  -5.492152  -0.801366 -24.379596  21.203413   \n",
            "16 -17.066107   6.766975  -7.844979  12.074688  -2.717204  -5.759432   \n",
            "17 -25.805765  11.771900   0.252922   6.654990   8.958048  13.916138   \n",
            "18  -2.443348  -7.029090 -10.716801  -0.524585 -14.990510  10.703025   \n",
            "19 -25.023344  41.918858 -12.172644   4.552008  -8.529410  -7.288302   \n",
            "20 -30.106966  30.094070  -2.411091  28.885286 -20.787011  -2.989398   \n",
            "\n",
            "           12  \n",
            "0    7.067918  \n",
            "1    1.986220  \n",
            "2  -26.349885  \n",
            "3   -1.656937  \n",
            "4   -6.183268  \n",
            "5  -17.359013  \n",
            "6  -19.240324  \n",
            "7  -31.402686  \n",
            "8    8.279377  \n",
            "9  -25.078158  \n",
            "10 -12.249292  \n",
            "11 -18.580752  \n",
            "12  -9.785311  \n",
            "13   5.776432  \n",
            "14 -22.894115  \n",
            "15 -22.074451  \n",
            "16  -5.509999  \n",
            "17 -28.722803  \n",
            "18  -9.118878  \n",
            "19  -1.011653  \n",
            "20 -35.816108  \n"
          ]
        }
      ],
      "source": [
        "from sklearn.cluster import KMeans\n",
        "import pandas as pd\n",
        "np_a = np.array(a).reshape(21, 13)\n",
        "df = pd.DataFrame(np_a)\n",
        "df.reset_index(drop=True, inplace=True)\n",
        "print(df)\n",
        "kmeans = KMeans(n_clusters=5, random_state=0).fit(np_a)"
      ]
    },
    {
      "cell_type": "code",
      "execution_count": null,
      "metadata": {
        "colab": {
          "base_uri": "https://localhost:8080/"
        },
        "id": "UtoAvdDeS0-U",
        "outputId": "83e920d8-d6f2-4a52-d861-9c109dfc7a02"
      },
      "outputs": [
        {
          "name": "stdout",
          "output_type": "stream",
          "text": [
            "[[-14.27831729  64.27549121 -52.43727244  -5.16690608 -36.99333631\n",
            "   32.57335719 -27.94286594   4.89926181   1.54135739  14.10314645\n",
            "   -6.08957501  -1.89436563  -6.98671705]\n",
            " [-52.34516591  97.71713888 -77.02084339 -27.81006514 -11.25894676\n",
            "   22.72924427 -24.60924356  26.7920438   -4.09554731  23.38113085\n",
            "   -8.07068098  -5.86849273 -13.51241622]\n",
            " [-90.9653729  138.67252251 -85.43485769 -26.99118823  -8.22935601\n",
            "   -2.1642343    3.20489448   8.32557255   0.26233851  11.77953366\n",
            "   -1.14425713  -8.96425363 -11.89267025]\n",
            " [-33.56100562  93.47618346 -30.72671555 -42.27935827  -3.96572282\n",
            "   10.9646488  -14.21587993  15.02024758  -7.72482187   4.17896784\n",
            "   -8.58435268  14.97565682 -21.50387382]\n",
            " [-29.76603289 113.87697334 -85.72966942 -11.5717383  -14.83516376\n",
            "    8.50069185   0.9439421   -8.58249691   5.95381093   7.31584974\n",
            "  -12.24850766   7.94536487 -11.48529603]]\n"
          ]
        }
      ],
      "source": [
        "print(kmeans.cluster_centers_)"
      ]
    },
    {
      "cell_type": "code",
      "execution_count": null,
      "metadata": {
        "id": "1l_3OFNuVK0y"
      },
      "outputs": [],
      "source": [
        "pred_label = kmeans.predict(np_a)"
      ]
    },
    {
      "cell_type": "code",
      "execution_count": null,
      "metadata": {
        "colab": {
          "base_uri": "https://localhost:8080/",
          "height": 483
        },
        "id": "qwm6MZFYXKCL",
        "outputId": "13a976a9-61d7-4317-d678-0b67d877d689"
      },
      "outputs": [
        {
          "data": {
            "image/png": "[encoded data removed]",
            "text/plain": [
              "<Figure size 720x576 with 1 Axes>"
            ]
          },
          "metadata": {},
          "output_type": "display_data"
        }
      ],
      "source": [
        "kmeans_display(np_a, pred_label)"
      ]
    },
    {
      "cell_type": "code",
      "execution_count": 56,
      "metadata": {
        "id": "Ndpd1aNxK-5U"
      },
      "outputs": [],
      "source": [
        "def kmeans_distances(mfcc_vectors, k):\n",
        "  mfcc_vectors = np.array(mfcc_vectors).reshape(21, 13)\n",
        "  kmeans = KMeans(n_clusters=k, random_state=0).fit(mfcc_vectors)\n",
        "  return kmeans.cluster_centers_"
      ]
    },
    {
      "cell_type": "code",
      "execution_count": 79,
      "metadata": {
        "id": "ydLD-DCuLO_C"
      },
      "outputs": [],
      "source": [
        "k = 2\n",
        "distances_a = kmeans_distances(a, k)\n",
        "distances_e = kmeans_distances(e, k)\n",
        "distances_i = kmeans_distances(i, k)\n",
        "distances_o = kmeans_distances(o, k)\n",
        "distances_u = kmeans_distances(u, k)"
      ]
    },
    {
      "cell_type": "code",
      "execution_count": 80,
      "metadata": {
        "colab": {
          "base_uri": "https://localhost:8080/"
        },
        "id": "UeoMTbGmMfMd",
        "outputId": "5c81c587-1554-49e4-a8ec-26b0873f6edf"
      },
      "outputs": [
        {
          "output_type": "stream",
          "name": "stderr",
          "text": [
            "/usr/local/lib/python3.7/dist-packages/librosa/core/spectrum.py:224: UserWarning: n_fft=2048 is too small for input signal of length=480\n",
            "  n_fft, y.shape[-1]\n",
            "/usr/local/lib/python3.7/dist-packages/librosa/core/spectrum.py:224: UserWarning: n_fft=2048 is too small for input signal of length=320\n",
            "  n_fft, y.shape[-1]\n",
            "/usr/local/lib/python3.7/dist-packages/librosa/core/spectrum.py:224: UserWarning: n_fft=2048 is too small for input signal of length=160\n",
            "  n_fft, y.shape[-1]\n",
            "/usr/local/lib/python3.7/dist-packages/ipykernel_launcher.py:6: WavFileWarning: Chunk (non-data) not understood, skipping it.\n",
            "  \n"
          ]
        },
        {
          "output_type": "stream",
          "name": "stdout",
          "text": [
            "17\n"
          ]
        }
      ],
      "source": [
        "count = 0\n",
        "for vowel in test_directories:\n",
        "  for file_path in test_directories[vowel]:\n",
        "    result = []\n",
        "    label = splitted_file_path[-1].split('.')[0]\n",
        "    sample_rate, signal = wavfile.read(file_path)\n",
        "    normalized_signal = signal / np.max(signal)\n",
        "    voice_frames = voice_segment(normalized_signal, sample_rate, 0.01, \"short_term_energy\")\n",
        "    middle_frame = get_middle_frame(voice_frames)\n",
        "    middle_frame = np.array(middle_frame)\n",
        "    mfcc_vector = mfcc(middle_frame, sample_rate)\n",
        "    for distance in distances_a:\n",
        "      result.append(abs(np.mean(mfcc_vector) - np.mean(distance)))\n",
        "    for distance in distances_e:\n",
        "      result.append(abs(np.mean(mfcc_vector) - np.mean(distance)))\n",
        "    for distance in distances_i:\n",
        "      result.append(abs(np.mean(mfcc_vector) - np.mean(distance)))\n",
        "    for distance in distances_o:\n",
        "      result.append(abs(np.mean(mfcc_vector) - np.mean(distance)))\n",
        "    for distance in distances_u:\n",
        "      result.append(abs(np.mean(mfcc_vector) - np.mean(distance)))\n",
        "    min_index = argmin(result)\n",
        "    predicted_value = \"\"\n",
        "    if (min_index // k) == 0:\n",
        "      predicted_value = \"a\"\n",
        "    elif (min_index // k) == 1:\n",
        "      predicted_value = \"e\"\n",
        "    elif (min_index // k) == 2:\n",
        "      predicted_value = \"i\"\n",
        "    elif (min_index // k) == 3:\n",
        "      predicted_value = \"o\"\n",
        "    elif (min_index // k) == 4:\n",
        "      predicted_value = \"u\"\n",
        "    if predicted_value == label:\n",
        "      count += 1\n",
        "print(count)"
      ]
    },
    {
      "cell_type": "code",
      "execution_count": null,
      "metadata": {
        "id": "NZH6wreFNmEd"
      },
      "outputs": [],
      "source": []
    }
  ],
  "metadata": {
    "colab": {
      "provenance": [],
      "authorship_tag": "ABX9TyPmSSQlU/dWn8jvsNoj0rkZ",
      "include_colab_link": true
    },
    "kernelspec": {
      "display_name": "Python 3",
      "name": "python3"
    },
    "language_info": {
      "name": "python"
    }
  },
  "nbformat": 4,
  "nbformat_minor": 0
}